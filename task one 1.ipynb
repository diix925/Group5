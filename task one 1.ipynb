{
 "cells": [
  {
   "cell_type": "code",
   "execution_count": 2,
   "id": "572de0a1",
   "metadata": {},
   "outputs": [
    {
     "name": "stdout",
     "output_type": "stream",
     "text": [
      "Hello , Python!\n"
     ]
    }
   ],
   "source": [
    "print(\"Hello , Python!\")"
   ]
  },
  {
   "cell_type": "code",
   "execution_count": 3,
   "id": "f7502fcc",
   "metadata": {},
   "outputs": [
    {
     "name": "stdout",
     "output_type": "stream",
     "text": [
      "D\n"
     ]
    }
   ],
   "source": [
    "name= \"Doha Alsharif\"\n",
    "print(name[0])"
   ]
  },
  {
   "cell_type": "code",
   "execution_count": 4,
   "id": "e6f8c840",
   "metadata": {},
   "outputs": [
    {
     "name": "stdout",
     "output_type": "stream",
     "text": [
      "l\n"
     ]
    }
   ],
   "source": [
    "print(name[6])"
   ]
  },
  {
   "cell_type": "code",
   "execution_count": 7,
   "id": "0d5d7077",
   "metadata": {},
   "outputs": [
    {
     "name": "stdout",
     "output_type": "stream",
     "text": [
      "Doha\n"
     ]
    }
   ],
   "source": [
    "print(name[0:4])"
   ]
  },
  {
   "cell_type": "code",
   "execution_count": 11,
   "id": "d60105bf",
   "metadata": {},
   "outputs": [
    {
     "data": {
      "text/plain": [
       "tuple"
      ]
     },
     "execution_count": 11,
     "metadata": {},
     "output_type": "execute_result"
    }
   ],
   "source": [
    "tuple1= (\"Group5\",441,442,443,444,445,)\n",
    "type(tuple1)"
   ]
  },
  {
   "cell_type": "code",
   "execution_count": 13,
   "id": "c3a36a4d",
   "metadata": {},
   "outputs": [
    {
     "name": "stdout",
     "output_type": "stream",
     "text": [
      "Group5\n",
      "441\n",
      "442\n",
      "443\n",
      "444\n"
     ]
    }
   ],
   "source": [
    "print(tuple1[0])\n",
    "print(tuple1[1])\n",
    "print(tuple1[2])\n",
    "print(tuple1[3])\n",
    "print(tuple1[4])\n"
   ]
  },
  {
   "cell_type": "code",
   "execution_count": 2,
   "id": "0d28544d",
   "metadata": {},
   "outputs": [
    {
     "name": "stdout",
     "output_type": "stream",
     "text": [
      "['Doha', 10.0, 2002]\n"
     ]
    }
   ],
   "source": [
    "A = [\"Doha\",10.0,2002]\n",
    "print(A)"
   ]
  },
  {
   "cell_type": "code",
   "execution_count": 4,
   "id": "cd8fa0de",
   "metadata": {},
   "outputs": [
    {
     "name": "stdout",
     "output_type": "stream",
     "text": [
      "Doha 2002\n"
     ]
    }
   ],
   "source": [
    "print(A[0],A[2])"
   ]
  },
  {
   "cell_type": "code",
   "execution_count": 5,
   "id": "3ce6467c",
   "metadata": {},
   "outputs": [
    {
     "name": "stdout",
     "output_type": "stream",
     "text": [
      "10.0\n"
     ]
    }
   ],
   "source": [
    "print(A[-2])"
   ]
  },
  {
   "cell_type": "code",
   "execution_count": 6,
   "id": "707e58f5",
   "metadata": {},
   "outputs": [
    {
     "name": "stdout",
     "output_type": "stream",
     "text": [
      "Doha\n",
      "hams\n",
      "sharifa\n",
      "shahd\n",
      "rodina\n"
     ]
    }
   ],
   "source": [
    "names=[\"Doha\",\"hams\",\"sharifa\",\"shahd\",\"rodina\"]\n",
    "N = len(names)\n",
    "\n",
    "for i in range(N):\n",
    "    print(names[i])"
   ]
  },
  {
   "cell_type": "code",
   "execution_count": 7,
   "id": "3a30d6c5",
   "metadata": {},
   "outputs": [
    {
     "data": {
      "text/plain": [
       "4"
      ]
     },
     "execution_count": 7,
     "metadata": {},
     "output_type": "execute_result"
    }
   ],
   "source": [
    "2*2"
   ]
  },
  {
   "cell_type": "code",
   "execution_count": 8,
   "id": "18edf8e3",
   "metadata": {},
   "outputs": [
    {
     "name": "stdout",
     "output_type": "stream",
     "text": [
      "105.0\n"
     ]
    }
   ],
   "source": [
    "a=10.5\n",
    "b=10\n",
    "print( a*b)"
   ]
  },
  {
   "cell_type": "code",
   "execution_count": 9,
   "id": "96fd7e6e",
   "metadata": {},
   "outputs": [
    {
     "name": "stdout",
     "output_type": "stream",
     "text": [
      "1.0\n"
     ]
    }
   ],
   "source": [
    "x=10+10\n",
    "print (20/x)"
   ]
  },
  {
   "cell_type": "code",
   "execution_count": null,
   "id": "452b8e71",
   "metadata": {},
   "outputs": [],
   "source": []
  }
 ],
 "metadata": {
  "kernelspec": {
   "display_name": "Python 3 (ipykernel)",
   "language": "python",
   "name": "python3"
  },
  "language_info": {
   "codemirror_mode": {
    "name": "ipython",
    "version": 3
   },
   "file_extension": ".py",
   "mimetype": "text/x-python",
   "name": "python",
   "nbconvert_exporter": "python",
   "pygments_lexer": "ipython3",
   "version": "3.9.12"
  }
 },
 "nbformat": 4,
 "nbformat_minor": 5
}
